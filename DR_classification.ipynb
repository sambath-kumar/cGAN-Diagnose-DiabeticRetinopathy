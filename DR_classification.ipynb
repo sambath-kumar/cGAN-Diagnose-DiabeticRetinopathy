import os
import pandas as pd

# Configuration
csv_file_path = '/content/drive/MyDrive/Colab Notebooks/Fundus_OCTA_GAN/trainLabels19.csv'  # Path to your CSV file
image_folder = '/content/drive/MyDrive/Colab Notebooks/Fundus_OCTA_GAN/ResizedTrain19-samples'  # Path to your image dataset
output_csv_path = 'updated_trainLabels19.csv'  # Path for the updated CSV

# Step 1: Load the CSV file
df = pd.read_csv(csv_file_path)

# Step 2: Get list of actual image files in the dataset
# Assuming images are in .png or .jpg format - adjust extensions if needed
image_extensions = ('.png', '.jpg', '.jpeg')
image_files = set()
for file in os.listdir(image_folder):
    if file.lower().endswith(image_extensions):
        # Remove extension for matching with CSV
        base_name = os.path.splitext(file)[0]
        image_files.add(base_name)

# Step 3: Filter the DataFrame to keep only rows with existing images
filtered_df = df[df['id_code'].isin(image_files)]

# Step 4: Save the filtered DataFrame to a new CSV
filtered_df.to_csv(output_csv_path, index=False)

print(f"Original rows: {len(df)}, Filtered rows: {len(filtered_df)}")
print(f"Updated CSV saved to: {output_csv_path}")
